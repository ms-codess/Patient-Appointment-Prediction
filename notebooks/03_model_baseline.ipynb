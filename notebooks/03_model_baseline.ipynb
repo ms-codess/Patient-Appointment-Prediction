{
  "cells": [
    {
      "cell_type": "markdown",
      "metadata": {},
      "source": [
        "# Model Baseline - Patient Appointment Prediction\n",
        "\n",
        "This notebook establishes baseline models and compares different algorithms for predicting patient no-show appointments.\n",
        "\n",
        "## Table of Contents\n",
        "1. [Data Loading and Preparation](#data-loading)\n",
        "2. [Baseline Models](#baseline-models)\n",
        "3. [Model Comparison](#model-comparison)\n",
        "4. [Hyperparameter Tuning](#hyperparameter-tuning)\n",
        "5. [Cross-Validation Analysis](#cross-validation)\n",
        "6. [Model Selection](#model-selection)\n"
      ]
    },
    {
      "cell_type": "code",
      "execution_count": null,
      "metadata": {},
      "outputs": [],
      "source": [
        "# Import necessary libraries\n",
        "import pandas as pd\n",
        "import numpy as np\n",
        "import matplotlib.pyplot as plt\n",
        "import seaborn as sns\n",
        "from sklearn.model_selection import train_test_split, cross_val_score, GridSearchCV\n",
        "from sklearn.preprocessing import StandardScaler, LabelEncoder, OneHotEncoder\n",
        "from sklearn.compose import ColumnTransformer\n",
        "from sklearn.pipeline import Pipeline\n",
        "from sklearn.linear_model import LogisticRegression\n",
        "from sklearn.ensemble import RandomForestClassifier, GradientBoostingClassifier\n",
        "from sklearn.svm import SVC\n",
        "from sklearn.naive_bayes import GaussianNB\n",
        "from sklearn.tree import DecisionTreeClassifier\n",
        "from sklearn.metrics import (\n",
        "    classification_report, confusion_matrix, roc_auc_score, \n",
        "    average_precision_score, accuracy_score, precision_score, \n",
        "    recall_score, f1_score, roc_curve, precision_recall_curve\n",
        ")\n",
        "import xgboost as xgb\n",
        "import warnings\n",
        "warnings.filterwarnings('ignore')\n",
        "\n",
        "# Set plotting style\n",
        "plt.style.use('default')\n",
        "sns.set_palette(\"husl\")\n",
        "\n",
        "print(\"Libraries imported successfully!\")\n"
      ]
    },
    {
      "cell_type": "markdown",
      "metadata": {},
      "source": [
        "## 1. Data Loading and Preparation {#data-loading}\n"
      ]
    },
    {
      "cell_type": "code",
      "execution_count": null,
      "metadata": {},
      "outputs": [],
      "source": [
        "# Load and prepare data\n",
        "df = pd.read_csv('../data/raw/MedicalCentre.csv')\n",
        "\n",
        "print(\"Dataset Overview:\")\n",
        "print(f\"Shape: {df.shape}\")\n",
        "\n",
        "# Basic preprocessing\n",
        "df = df.drop(columns=['PatientID', 'AppointmentID'], errors='ignore')\n",
        "df['Age'] = pd.to_numeric(df['Age'], errors='coerce')\n",
        "df['Age'] = df['Age'].fillna(df['Age'].median())\n",
        "df = df.drop_duplicates()\n",
        "df = df[df['Age'] >= 0]\n",
        "\n",
        "# Create target variable\n",
        "df['NoShow'] = (df['No-show'] == 'Yes').astype(int)\n",
        "\n",
        "# Create basic features\n",
        "df['ScheduledDay'] = pd.to_datetime(df['ScheduledDay'])\n",
        "df['AppointmentDay'] = pd.to_datetime(df['AppointmentDay'])\n",
        "df['AwaitingDays'] = (df['AppointmentDay'] - df['ScheduledDay']).dt.days.abs()\n",
        "\n",
        "# Age groups\n",
        "df['AgeGroup'] = pd.cut(df['Age'], bins=[0, 18, 35, 50, 65, 100], \n",
        "                       labels=['0-18', '19-35', '36-50', '51-65', '65+'])\n",
        "\n",
        "# Prepare features\n",
        "feature_cols = ['Age', 'Gender', 'Scholarship', 'Hypertension', 'Diabetes', \n",
        "                'Alcoholism', 'Handicap', 'SMS_received', 'AwaitingDays', 'AgeGroup']\n",
        "X = df[feature_cols].copy()\n",
        "\n",
        "# Handle categorical variables\n",
        "categorical_cols = X.select_dtypes(include=['object', 'category']).columns\n",
        "for col in categorical_cols:\n",
        "    le = LabelEncoder()\n",
        "    X[col] = le.fit_transform(X[col].astype(str))\n",
        "\n",
        "y = df['NoShow']\n",
        "\n",
        "print(f\"\\nFeatures shape: {X.shape}\")\n",
        "print(f\"Target distribution: {y.value_counts()}\")\n",
        "print(f\"No-show rate: {y.mean():.1%}\")\n"
      ]
    },
    {
      "cell_type": "markdown",
      "metadata": {},
      "source": [
        "## 2. Baseline Models {#baseline-models}\n"
      ]
    },
    {
      "cell_type": "code",
      "execution_count": null,
      "metadata": {},
      "outputs": [],
      "source": [
        "# Train-test split\n",
        "X_train, X_test, y_train, y_test = train_test_split(\n",
        "    X, y, test_size=0.2, random_state=42, stratify=y\n",
        ")\n",
        "\n",
        "print(f\"Training set: {X_train.shape[0]:,} samples\")\n",
        "print(f\"Test set: {X_test.shape[0]:,} samples\")\n",
        "\n",
        "# Define baseline models\n",
        "models = {\n",
        "    'Logistic Regression': LogisticRegression(random_state=42, class_weight='balanced'),\n",
        "    'Decision Tree': DecisionTreeClassifier(random_state=42, class_weight='balanced'),\n",
        "    'Random Forest': RandomForestClassifier(n_estimators=100, random_state=42, class_weight='balanced'),\n",
        "    'Gradient Boosting': GradientBoostingClassifier(random_state=42),\n",
        "    'XGBoost': xgb.XGBClassifier(random_state=42, eval_metric='logloss'),\n",
        "    'SVM': SVC(random_state=42, class_weight='balanced', probability=True),\n",
        "    'Naive Bayes': GaussianNB()\n",
        "}\n",
        "\n",
        "print(f\"\\nTraining {len(models)} baseline models...\")\n"
      ]
    }
  ],
  "metadata": {
    "language_info": {
      "name": "python"
    }
  },
  "nbformat": 4,
  "nbformat_minor": 2
}
