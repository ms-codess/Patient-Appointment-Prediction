{
  "cells": [
    {
      "cell_type": "markdown",
      "metadata": {},
      "source": [
        "# Exploratory Data Analysis - Patient Appointment Prediction\n",
        "\n",
        "This notebook performs exploratory data analysis on the medical center appointment dataset to understand the data patterns, distributions, and relationships that might affect patient no-show behavior.\n",
        "\n",
        "## Table of Contents\n",
        "1. [Data Loading and Overview](#data-loading)\n",
        "2. [Data Quality Assessment](#data-quality)\n",
        "3. [Target Variable Analysis](#target-analysis)\n",
        "4. [Feature Analysis](#feature-analysis)\n",
        "5. [Correlation Analysis](#correlation-analysis)\n",
        "6. [Temporal Analysis](#temporal-analysis)\n",
        "7. [Key Insights](#insights)\n"
      ]
    },
    {
      "cell_type": "code",
      "execution_count": null,
      "metadata": {},
      "outputs": [],
      "source": [
        "# Import necessary libraries\n",
        "import pandas as pd\n",
        "import numpy as np\n",
        "import matplotlib.pyplot as plt\n",
        "import seaborn as sns\n",
        "import warnings\n",
        "warnings.filterwarnings('ignore')\n",
        "\n",
        "# Set plotting style\n",
        "plt.style.use('default')\n",
        "sns.set_palette(\"husl\")\n",
        "\n",
        "# Import utility functions\n",
        "import sys\n",
        "sys.path.append('../src')\n",
        "from utils import plot_data_distribution, plot_correlation_heatmap\n",
        "\n",
        "print(\"Libraries imported successfully!\")\n"
      ]
    },
    {
      "cell_type": "markdown",
      "metadata": {},
      "source": [
        "## 1. Data Loading and Overview {#data-loading}\n"
      ]
    },
    {
      "cell_type": "code",
      "execution_count": null,
      "metadata": {},
      "outputs": [],
      "source": [
        "# Load the raw dataset\n",
        "df_raw = pd.read_csv('../data/raw/MedicalCentre.csv')\n",
        "\n",
        "print(\"Dataset Overview:\")\n",
        "print(f\"Shape: {df_raw.shape}\")\n",
        "print(f\"Columns: {list(df_raw.columns)}\")\n",
        "print(\"\\nFirst few rows:\")\n",
        "df_raw.head()\n"
      ]
    },
    {
      "cell_type": "code",
      "execution_count": null,
      "metadata": {},
      "outputs": [],
      "source": [
        "# Basic information about the dataset\n",
        "print(\"Dataset Information:\")\n",
        "print(\"=\" * 50)\n",
        "print(f\"Total records: {len(df_raw):,}\")\n",
        "print(f\"Total features: {len(df_raw.columns)}\")\n",
        "print(f\"Memory usage: {df_raw.memory_usage(deep=True).sum() / 1024**2:.2f} MB\")\n",
        "\n",
        "print(\"\\nData Types:\")\n",
        "print(df_raw.dtypes)\n",
        "\n",
        "print(\"\\nMissing Values:\")\n",
        "missing_values = df_raw.isnull().sum()\n",
        "print(missing_values[missing_values > 0])\n"
      ]
    },
    {
      "cell_type": "markdown",
      "metadata": {},
      "source": [
        "## 2. Data Quality Assessment {#data-quality}\n"
      ]
    },
    {
      "cell_type": "code",
      "execution_count": null,
      "metadata": {},
      "outputs": [],
      "source": [
        "# Check for duplicates\n",
        "duplicates = df_raw.duplicated().sum()\n",
        "print(f\"Duplicate records: {duplicates:,}\")\n",
        "\n",
        "# Check for negative ages\n",
        "negative_ages = (df_raw['Age'] < 0).sum()\n",
        "print(f\"Negative ages: {negative_ages:,}\")\n",
        "\n",
        "# Check age distribution\n",
        "print(f\"\\nAge Statistics:\")\n",
        "print(f\"Min age: {df_raw['Age'].min()}\")\n",
        "print(f\"Max age: {df_raw['Age'].max()}\")\n",
        "print(f\"Mean age: {df_raw['Age'].mean():.2f}\")\n",
        "print(f\"Median age: {df_raw['Age'].median():.2f}\")\n",
        "\n",
        "# Check unique values in categorical columns\n",
        "print(f\"\\nUnique values in categorical columns:\")\n",
        "categorical_cols = ['Gender', 'Neighbourhood', 'No-show']\n",
        "for col in categorical_cols:\n",
        "    print(f\"{col}: {df_raw[col].nunique()} unique values\")\n"
      ]
    },
    {
      "cell_type": "markdown",
      "metadata": {},
      "source": [
        "## 3. Target Variable Analysis {#target-analysis}\n"
      ]
    },
    {
      "cell_type": "code",
      "execution_count": null,
      "metadata": {},
      "outputs": [],
      "source": [
        "# Analyze the target variable (No-show)\n",
        "no_show_counts = df_raw['No-show'].value_counts()\n",
        "no_show_percentages = df_raw['No-show'].value_counts(normalize=True) * 100\n",
        "\n",
        "print(\"No-Show Distribution:\")\n",
        "print(\"=\" * 30)\n",
        "for value, count in no_show_counts.items():\n",
        "    percentage = no_show_percentages[value]\n",
        "    print(f\"{value}: {count:,} ({percentage:.2f}%)\")\n",
        "\n",
        "# Visualize the target variable distribution\n",
        "plt.figure(figsize=(8, 6))\n",
        "colors = ['lightblue', 'lightcoral']\n",
        "plt.pie(no_show_counts.values, labels=no_show_counts.index, autopct='%1.1f%%', \n",
        "        colors=colors, startangle=90)\n",
        "plt.title('Distribution of No-Show Appointments')\n",
        "plt.axis('equal')\n",
        "plt.show()\n"
      ]
    },
    {
      "cell_type": "markdown",
      "metadata": {},
      "source": [
        "## 4. Feature Analysis {#feature-analysis}\n"
      ]
    },
    {
      "cell_type": "code",
      "execution_count": null,
      "metadata": {},
      "outputs": [],
      "source": [
        "# Analyze age distribution\n",
        "plt.figure(figsize=(12, 5))\n",
        "\n",
        "plt.subplot(1, 2, 1)\n",
        "plt.hist(df_raw['Age'], bins=50, color='skyblue', alpha=0.7, edgecolor='black')\n",
        "plt.title('Age Distribution')\n",
        "plt.xlabel('Age')\n",
        "plt.ylabel('Frequency')\n",
        "plt.grid(True, alpha=0.3)\n",
        "\n",
        "plt.subplot(1, 2, 2)\n",
        "df_raw.boxplot(column='Age', ax=plt.gca())\n",
        "plt.title('Age Box Plot')\n",
        "plt.ylabel('Age')\n",
        "\n",
        "plt.tight_layout()\n",
        "plt.show()\n"
      ]
    },
    {
      "cell_type": "code",
      "execution_count": null,
      "metadata": {},
      "outputs": [],
      "source": [
        "# Analyze gender distribution\n",
        "gender_counts = df_raw['Gender'].value_counts()\n",
        "print(\"Gender Distribution:\")\n",
        "print(gender_counts)\n",
        "\n",
        "plt.figure(figsize=(8, 6))\n",
        "plt.bar(gender_counts.index, gender_counts.values, color=['lightblue', 'lightpink'])\n",
        "plt.title('Gender Distribution')\n",
        "plt.xlabel('Gender')\n",
        "plt.ylabel('Count')\n",
        "plt.show()\n"
      ]
    },
    {
      "cell_type": "code",
      "execution_count": null,
      "metadata": {},
      "outputs": [],
      "source": [
        "# Analyze medical conditions\n",
        "medical_conditions = ['Scholarship', 'Hypertension', 'Diabetes', 'Alcoholism', 'Handicap', 'SMS_received']\n",
        "\n",
        "plt.figure(figsize=(15, 10))\n",
        "for i, condition in enumerate(medical_conditions, 1):\n",
        "    plt.subplot(2, 3, i)\n",
        "    condition_counts = df_raw[condition].value_counts()\n",
        "    plt.pie(condition_counts.values, labels=['No', 'Yes'], autopct='%1.1f%%', \n",
        "            colors=['lightblue', 'lightcoral'])\n",
        "    plt.title(f'{condition} Distribution')\n",
        "    plt.axis('equal')\n",
        "\n",
        "plt.tight_layout()\n",
        "plt.show()\n"
      ]
    },
    {
      "cell_type": "markdown",
      "metadata": {},
      "source": [
        "## 5. Correlation Analysis {#correlation-analysis}\n"
      ]
    },
    {
      "cell_type": "code",
      "execution_count": null,
      "metadata": {},
      "outputs": [],
      "source": [
        "# Analyze no-show rates by different features\n",
        "def analyze_no_show_by_feature(df, feature):\n",
        "    \"\"\"Analyze no-show rates by a specific feature\"\"\"\n",
        "    no_show_by_feature = df.groupby(feature)['No-show'].value_counts(normalize=True).unstack()\n",
        "    no_show_by_feature = no_show_by_feature.fillna(0)\n",
        "    return no_show_by_feature\n",
        "\n",
        "# Analyze by gender\n",
        "print(\"No-Show Rates by Gender:\")\n",
        "gender_no_show = analyze_no_show_by_feature(df_raw, 'Gender')\n",
        "print(gender_no_show)\n",
        "\n",
        "# Analyze by age groups\n",
        "df_raw['AgeGroup'] = pd.cut(df_raw['Age'], bins=[0, 18, 35, 50, 65, 100], \n",
        "                           labels=['0-18', '19-35', '36-50', '51-65', '65+'])\n",
        "age_no_show = analyze_no_show_by_feature(df_raw, 'AgeGroup')\n",
        "print(\"\\nNo-Show Rates by Age Group:\")\n",
        "print(age_no_show)\n"
      ]
    },
    {
      "cell_type": "code",
      "execution_count": null,
      "metadata": {},
      "outputs": [],
      "source": [
        "# Visualize no-show rates by different features\n",
        "plt.figure(figsize=(15, 10))\n",
        "\n",
        "# Gender\n",
        "plt.subplot(2, 3, 1)\n",
        "gender_no_show['Yes'].plot(kind='bar', color='lightcoral')\n",
        "plt.title('No-Show Rate by Gender')\n",
        "plt.ylabel('No-Show Rate')\n",
        "plt.xticks(rotation=0)\n",
        "\n",
        "# Age Groups\n",
        "plt.subplot(2, 3, 2)\n",
        "age_no_show['Yes'].plot(kind='bar', color='lightgreen')\n",
        "plt.title('No-Show Rate by Age Group')\n",
        "plt.ylabel('No-Show Rate')\n",
        "plt.xticks(rotation=45)\n",
        "\n",
        "# Medical conditions\n",
        "for i, condition in enumerate(['Scholarship', 'Hypertension', 'Diabetes'], 3):\n",
        "    plt.subplot(2, 3, i)\n",
        "    condition_no_show = analyze_no_show_by_feature(df_raw, condition)\n",
        "    condition_no_show['Yes'].plot(kind='bar', color='lightblue')\n",
        "    plt.title(f'No-Show Rate by {condition}')\n",
        "    plt.ylabel('No-Show Rate')\n",
        "    plt.xticks(rotation=0)\n",
        "\n",
        "plt.tight_layout()\n",
        "plt.show()\n"
      ]
    },
    {
      "cell_type": "markdown",
      "metadata": {},
      "source": [
        "## 6. Temporal Analysis {#temporal-analysis}\n"
      ]
    },
    {
      "cell_type": "code",
      "execution_count": null,
      "metadata": {},
      "outputs": [],
      "source": [
        "# Convert date columns to datetime\n",
        "df_raw['ScheduledDay'] = pd.to_datetime(df_raw['ScheduledDay'])\n",
        "df_raw['AppointmentDay'] = pd.to_datetime(df_raw['AppointmentDay'])\n",
        "\n",
        "# Calculate waiting time\n",
        "df_raw['WaitingDays'] = (df_raw['AppointmentDay'] - df_raw['ScheduledDay']).dt.days\n",
        "\n",
        "# Analyze waiting time distribution\n",
        "plt.figure(figsize=(12, 5))\n",
        "\n",
        "plt.subplot(1, 2, 1)\n",
        "plt.hist(df_raw['WaitingDays'], bins=50, color='skyblue', alpha=0.7, edgecolor='black')\n",
        "plt.title('Distribution of Waiting Days')\n",
        "plt.xlabel('Waiting Days')\n",
        "plt.ylabel('Frequency')\n",
        "plt.grid(True, alpha=0.3)\n",
        "\n",
        "plt.subplot(1, 2, 2)\n",
        "df_raw.boxplot(column='WaitingDays', ax=plt.gca())\n",
        "plt.title('Waiting Days Box Plot')\n",
        "plt.ylabel('Waiting Days')\n",
        "\n",
        "plt.tight_layout()\n",
        "plt.show()\n"
      ]
    },
    {
      "cell_type": "code",
      "execution_count": null,
      "metadata": {},
      "outputs": [],
      "source": [
        "# Analyze no-show rates by waiting time\n",
        "waiting_groups = pd.cut(df_raw['WaitingDays'], bins=[0, 1, 7, 30, 90, 365], \n",
        "                       labels=['Same Day', '1-7 Days', '8-30 Days', '31-90 Days', '90+ Days'])\n",
        "waiting_no_show = analyze_no_show_by_feature(df_raw, waiting_groups)\n",
        "\n",
        "plt.figure(figsize=(10, 6))\n",
        "waiting_no_show['Yes'].plot(kind='bar', color='orange')\n",
        "plt.title('No-Show Rate by Waiting Time')\n",
        "plt.ylabel('No-Show Rate')\n",
        "plt.xlabel('Waiting Time Group')\n",
        "plt.xticks(rotation=45)\n",
        "plt.grid(True, alpha=0.3)\n",
        "plt.show()\n",
        "\n",
        "print(\"No-Show Rates by Waiting Time:\")\n",
        "print(waiting_no_show)\n"
      ]
    },
    {
      "cell_type": "markdown",
      "metadata": {},
      "source": [
        "## 7. Key Insights {#insights}\n"
      ]
    },
    {
      "cell_type": "code",
      "execution_count": null,
      "metadata": {},
      "outputs": [],
      "source": [
        "# Summary of key findings\n",
        "print(\"KEY INSIGHTS FROM EDA:\")\n",
        "print(\"=\" * 50)\n",
        "\n",
        "print(f\"1. Dataset Size: {len(df_raw):,} appointments\")\n",
        "print(f\"2. Overall No-Show Rate: {df_raw['No-show'].value_counts(normalize=True)['Yes']*100:.1f}%\")\n",
        "\n",
        "print(f\"\\n3. Gender Impact:\")\n",
        "gender_impact = gender_no_show['Yes']\n",
        "for gender, rate in gender_impact.items():\n",
        "    print(f\"   - {gender}: {rate*100:.1f}% no-show rate\")\n",
        "\n",
        "print(f\"\\n4. Age Impact:\")\n",
        "age_impact = age_no_show['Yes']\n",
        "for age_group, rate in age_impact.items():\n",
        "    print(f\"   - {age_group}: {rate*100:.1f}% no-show rate\")\n",
        "\n",
        "print(f\"\\n5. Waiting Time Impact:\")\n",
        "waiting_impact = waiting_no_show['Yes']\n",
        "for wait_group, rate in waiting_impact.items():\n",
        "    print(f\"   - {wait_group}: {rate*100:.1f}% no-show rate\")\n",
        "\n",
        "print(f\"\\n6. Medical Conditions Impact:\")\n",
        "for condition in ['Scholarship', 'Hypertension', 'Diabetes', 'Alcoholism', 'Handicap', 'SMS_received']:\n",
        "    condition_impact = analyze_no_show_by_feature(df_raw, condition)\n",
        "    print(f\"   - {condition}:\")\n",
        "    print(f\"     * No: {condition_impact.loc[0, 'Yes']*100:.1f}% no-show rate\")\n",
        "    print(f\"     * Yes: {condition_impact.loc[1, 'Yes']*100:.1f}% no-show rate\")\n"
      ]
    }
  ],
  "metadata": {
    "language_info": {
      "name": "python"
    }
  },
  "nbformat": 4,
  "nbformat_minor": 2
}
